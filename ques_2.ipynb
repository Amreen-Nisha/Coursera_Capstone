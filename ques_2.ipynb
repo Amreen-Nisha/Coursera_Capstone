{
 "cells": [
  {
   "cell_type": "markdown",
   "metadata": {},
   "source": [
    "__The Battle of Neighborhoods: Finding new neighborhoods to live in a new city__"
   ]
  },
  {
   "cell_type": "markdown",
   "metadata": {},
   "source": [
    "__New York vs San Diego__"
   ]
  },
  {
   "cell_type": "markdown",
   "metadata": {},
   "source": [
    "__INTRODUCTION / PROBLEM__"
   ]
  },
  {
   "cell_type": "markdown",
   "metadata": {},
   "source": [
    "__Abstract__"
   ]
  },
  {
   "cell_type": "markdown",
   "metadata": {},
   "source": [
    "My imaginary client is moving from New York, NY to San Diego, CA for a job. However, she's only lived in New York all her life and is having a hard time to decide which neighborhood in San Diego she should live in. She is interested in areas that meets the following criteria:\n",
    "\n",
    "Similar to her current neighborhood, Chelsea, Manhattan(venues and mentities as in my current residence)\n",
    "Have her preferred venue types\n",
    "Have at least 2bed+ houses(preferrably 3bed+) that are affordable, her maximum budget is 1.5m\n",
    "Safe enough for her to be able to walk around alone whenever\n",
    "But with so many options and so much information available, how does she choose"
   ]
  },
  {
   "cell_type": "markdown",
   "metadata": {},
   "source": [
    "__Introduction__"
   ]
  },
  {
   "cell_type": "markdown",
   "metadata": {},
   "source": [
    "According to American Moving Statistics, 32 million people in the US moved in 2018, that is 10.1% of the population of 319 million US residents. The reasons for moving cities varied from Wanting new or better home/apartment to new job/job transfer/other job related reasons. Also, Rober Half's survey shows that 62% of workers said they would relocate for a job.\n",
    "\n",
    "When relocating, some people struggle to figure out which area they should look into, mainly because a lot of times they don't know much about the new city they're moving to. The basis of this project is to help people, who are relocating and don't know much about the city they're moving to, easily compare cities and recommend possible locations/neighborhoods that they might be interested in. It does this by exploring venue-based city-to-city simialrity measures, clustering neighborhoods within a city, and looking at housing requirements and prices as well as crime rates.\n",
    "\n",
    "In this project, I am going to use New York, NY and San Diego, CA as my two cities to demonstrate the methodology, which can then be used for any cities that people want to compare."
   ]
  },
  {
   "cell_type": "markdown",
   "metadata": {},
   "source": [
    "__Problem to solve__"
   ]
  },
  {
   "cell_type": "markdown",
   "metadata": {},
   "source": [
    "My client does not know San Diego well, since she's lived in NY only all her life. She has some ideas of what she wants in her new neighbor, but cannot figure out which neighbors in San Diego would meet her preference. How does she choose her new neighborhood?"
   ]
  },
  {
   "cell_type": "markdown",
   "metadata": {},
   "source": [
    "__Target Audience__"
   ]
  },
  {
   "cell_type": "markdown",
   "metadata": {},
   "source": [
    "My client who is relocating to San Diego and does not know much about the city nor the neighborhoods."
   ]
  },
  {
   "cell_type": "markdown",
   "metadata": {},
   "source": [
    "__DATA__"
   ]
  },
  {
   "cell_type": "markdown",
   "metadata": {},
   "source": [
    "__Introduction__"
   ]
  },
  {
   "cell_type": "markdown",
   "metadata": {},
   "source": [
    "US Moving Statistics for 2019: This site provides the complied data from United States Census Bureau. We can see how many people in the US move each year, top 10 states people are moving to and moving from, the reasons for moving, etc. - 32 million people in the US moved in 2018, that is 10.1% of the population of 319 million US residents.\n",
    "\n",
    "Robert Half survey: The online surveys developed by Robert Half and conducted by Independent research firms include reponses from more than 2,800 US workers 18 years of age or odler and employed in offive environments and more than 2,800 senior managers at companies with 20 or more employees in 28 major US cities - 62% of workers said they would relocate for a job."
   ]
  },
  {
   "cell_type": "markdown",
   "metadata": {},
   "source": [
    "__Methodology & Execution__"
   ]
  },
  {
   "cell_type": "markdown",
   "metadata": {},
   "source": [
    "NYU 2014 New York City Neighborhood Names: GeoJSON file that was created as a guide to New York City’s neighborhoods that appear on the web resource, “New York: A City of Neighborhoods.” This includes information on boroughs, neighborhoods, and location(latitudes & longitudes) of each neighborhoods.\n",
    "\n",
    "City of San Diego Neighborhoods shapes: GeoJSON file that provides an overview of the neighborhoods in Sandiego. This includes information on neighborhoods and location(latitudes & longitudes) of each neighborhoods.\n",
    "\n",
    "Foursquare API: This collects information on venues in the selected neighborhoods.\n",
    "\n",
    "Zillow Market Reports: This provides an excel file for the selected city's housing market reports. It includes information on neighborhood loation, Zillow home value index per number of beds for each neighborhoods, average zillow home value index for each neighborhoods, Median value per sq.ft.($) for each neighborhoods.\n",
    "\n",
    "Sandiego.gov Crime Statistics and Maps: San Diego provides crimes by neighborhood, and I'm using 'January-August 2019 data'. This includes information on type of crimes and neighborhood that the crimes occured in."
   ]
  },
  {
   "cell_type": "code",
   "execution_count": null,
   "metadata": {},
   "outputs": [],
   "source": []
  }
 ],
 "metadata": {
  "kernelspec": {
   "display_name": "Python 3",
   "language": "python",
   "name": "python3"
  },
  "language_info": {
   "codemirror_mode": {
    "name": "ipython",
    "version": 3
   },
   "file_extension": ".py",
   "mimetype": "text/x-python",
   "name": "python",
   "nbconvert_exporter": "python",
   "pygments_lexer": "ipython3",
   "version": "3.7.3"
  }
 },
 "nbformat": 4,
 "nbformat_minor": 4
}
