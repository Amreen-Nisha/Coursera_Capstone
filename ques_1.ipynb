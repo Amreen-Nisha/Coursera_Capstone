{
 "cells": [
  {
   "cell_type": "markdown",
   "metadata": {},
   "source": [
    "__The Battle of Neighborhoods: Finding new neighborhoods to live in a new city__"
   ]
  },
  {
   "cell_type": "markdown",
   "metadata": {},
   "source": [
    "__New York vs San Diego__"
   ]
  },
  {
   "cell_type": "markdown",
   "metadata": {},
   "source": [
    "__INTRODUCTION / PROBLEMS__"
   ]
  },
  {
   "cell_type": "markdown",
   "metadata": {},
   "source": [
    "__Abstract__"
   ]
  },
  {
   "cell_type": "markdown",
   "metadata": {},
   "source": [
    "My imaginary client is moving from New York, NY to San Diego, CA for a job. However, she's only lived in New York all her life and is having a hard time to decide which neighborhood in San Diego she should live in. She is interested in areas that meets the following criteria:\n",
    "\n",
    "Similar to her current neighborhood, Chelsea, Manhattan(venues and mentities as in my current residence) Have her preferred venue types Have at least 2bed+ houses(preferrably 3bed+) that are affordable, her maximum budget is 1.5m Safe enough for her to be able to walk around alone whenever But with so many options and so much information available, how does she choose?"
   ]
  },
  {
   "cell_type": "markdown",
   "metadata": {},
   "source": [
    "__Introduction__"
   ]
  },
  {
   "cell_type": "markdown",
   "metadata": {},
   "source": [
    "According to American Moving Statistics, 32 million people in the US moved in 2018, that is 10.1% of the population of 319 million US residents. The reasons for moving cities varied from Wanting new or better home/apartment to new job/job transfer/other job related reasons. Also, Rober Half's survey shows that 62% of workers said they would relocate for a job.\n",
    "\n",
    "When relocating, some people struggle to figure out which area they should look into, mainly because a lot of times they don't know much about the new city they're moving to. The basis of this project is to help people, who are relocating and don't know much about the city they're moving to, easily compare cities and recommend possible locations/neighborhoods that they might be interested in. It does this by exploring venue-based city-to-city simialrity measures, clustering neighborhoods within a city, and looking at housing requirements and prices as well as crime rates.\n",
    "\n",
    "In this project, I am going to use New York, NY and San Diego, CA as my two cities to demonstrate the methodology, which can then be used for any cities that people want to compare."
   ]
  },
  {
   "cell_type": "markdown",
   "metadata": {},
   "source": [
    "__Problem to solve__"
   ]
  },
  {
   "cell_type": "markdown",
   "metadata": {},
   "source": [
    "My client does not know San Diego well, since she's lived in NY only all her life. She has some ideas of what she wants in her new neighbor, but cannot figure out which neighbors in San Diego would meet her preference. How does she choose her new neighborhood?\n",
    "\n"
   ]
  },
  {
   "cell_type": "markdown",
   "metadata": {},
   "source": [
    "__Target Audience__"
   ]
  },
  {
   "cell_type": "markdown",
   "metadata": {},
   "source": [
    "My client who is relocating to San Diego and does not know much about the city nor the neighborhoods.\n",
    "\n",
    "​"
   ]
  },
  {
   "cell_type": "code",
   "execution_count": null,
   "metadata": {},
   "outputs": [],
   "source": []
  }
 ],
 "metadata": {
  "kernelspec": {
   "display_name": "Python 3",
   "language": "python",
   "name": "python3"
  },
  "language_info": {
   "codemirror_mode": {
    "name": "ipython",
    "version": 3
   },
   "file_extension": ".py",
   "mimetype": "text/x-python",
   "name": "python",
   "nbconvert_exporter": "python",
   "pygments_lexer": "ipython3",
   "version": "3.7.3"
  }
 },
 "nbformat": 4,
 "nbformat_minor": 4
}
